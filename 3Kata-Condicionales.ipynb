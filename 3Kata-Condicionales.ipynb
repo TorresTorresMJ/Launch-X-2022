{
 "cells": [
  {
   "cell_type": "code",
   "execution_count": null,
   "metadata": {},
   "outputs": [],
   "source": []
  },
  {
   "cell_type": "markdown",
   "metadata": {},
   "source": [
    "## Lógica Booleana \n",
    "KATA 3"
   ]
  },
  {
   "cell_type": "markdown",
   "metadata": {},
   "source": [
    "\"if\""
   ]
  },
  {
   "cell_type": "code",
   "execution_count": 1,
   "metadata": {},
   "outputs": [],
   "source": [
    "n1 = 129\n",
    "n2 = 3\n",
    "\n",
    "#Test de expresión\n",
    "\n",
    "if n1 < n2: \n",
    "    print(n2)  #Se imprime si y solo si el n2 es mayor que n1\n"
   ]
  },
  {
   "cell_type": "code",
   "execution_count": 2,
   "metadata": {},
   "outputs": [
    {
     "name": "stdout",
     "output_type": "stream",
     "text": [
      "2 no son iguales 3\n"
     ]
    }
   ],
   "source": [
    "#Expresiones\n",
    "a= 2\n",
    "b= 3\n",
    "\n",
    "if a == b:\n",
    "    print( \"Ambos números son iguales\")\n",
    "else:\n",
    "        print(a,\"no son iguales\",b)"
   ]
  },
  {
   "cell_type": "code",
   "execution_count": 3,
   "metadata": {},
   "outputs": [
    {
     "name": "stdout",
     "output_type": "stream",
     "text": [
      "129 es mayor\n"
     ]
    }
   ],
   "source": [
    "if n2 > n1:\n",
    "    print ( n2, \"Es mayor que \" , n1) \n",
    "elif n1 > n2:\n",
    "    print (n1, \"es mayor\")\n",
    "else:\n",
    "    print (n1, \"y\" , n2, \"son iguales\")"
   ]
  },
  {
   "cell_type": "code",
   "execution_count": 4,
   "metadata": {},
   "outputs": [
    {
     "name": "stdout",
     "output_type": "stream",
     "text": [
      "129 y 3 no son iguales\n"
     ]
    }
   ],
   "source": [
    "if n1 != n2:\n",
    "    print (n1, \"y\", n2, \"no son iguales\")\n",
    "else:\n",
    "    print (\"Son iguales\")"
   ]
  },
  {
   "cell_type": "code",
   "execution_count": 5,
   "metadata": {},
   "outputs": [
    {
     "name": "stdout",
     "output_type": "stream",
     "text": [
      "Hola, vamos a crear tu cuenta\n",
      "Tu registro está completo\n",
      "Hola de nuevo  mon\n"
     ]
    }
   ],
   "source": [
    "##ESTE ES MI EJEMPLO DE APLICACIÓN\n",
    "\n",
    "cuenta = input(\"Bienvenido, ¿Ya tienes una cuenta?\")\n",
    "if cuenta == 'no' :\n",
    "    print(\"Hola, vamos a crear tu cuenta\")\n",
    "    usuario1 = input(\"Por favor crea tu nombre de usuario\")\n",
    "    contra1 = input(\"Por favor crea una contraseña\")\n",
    "   # vincular = input (\"Listo\",usuario1,\" ya tienes cuenta, Si deseas vincular tu numero de telefono presiona 1, si no, presiona cualquier otra tecla para salir\")\n",
    "   # if vincular == '1':\n",
    "    #    tel1 = input(\"\")\n",
    "        #print(\"¡Listo!\")\n",
    "print(\"Tu registro está completo\")\n",
    "\n",
    "usuario = input(\"Por favor ingresa tu usuario\")\n",
    "if usuario == usuario1 or usuario == 'moni':\n",
    "    contra = input(\"por favor ingresa tu contraseña\")\n",
    "    if contra == contra1 or contra == '123':\n",
    "        print(\"Hola de nuevo \", usuario )\n",
    "    else:\n",
    "        contra = input(\"Contraseña incorrecta intente de nuevo\")\n",
    "        if contra == contra1 or contra == '123':\n",
    "         print(\"Hola de nuevo \", usuario )\n",
    "        else:\n",
    "            print(\"Se ha excedido el numero de intentos, reinicie la aplicación\")\n",
    "\n",
    "# Opcion para hacer lo de OR con condicionales \n",
    "# elif usuario == 'moni':\n",
    "  #  contra = input(\"Por favor ingresa tu contraseña\")\n",
    "   # if contra == '123':\n",
    "    #    print(\"Hola de nuevo \", usuario )\n",
    "    #else:\n",
    "     #   contra = input(\"Contraseña incorrecta intente de nuevo\")\n",
    "      #  if contra == '123' :\n",
    "       #     print(\"Hola de nuevo \", usuario )\n",
    "        #else:\n",
    "         #   print(\"Se ha excedido el numero de intentos, reinicie la aplicación\")\n",
    "else:\n",
    "    print(\"Usuario no encontrado\")\n",
    "\n"
   ]
  },
  {
   "cell_type": "markdown",
   "metadata": {},
   "source": [
    "## EJERCICIO 1, KATA 2 "
   ]
  },
  {
   "cell_type": "code",
   "execution_count": 6,
   "metadata": {},
   "outputs": [
    {
     "name": "stdout",
     "output_type": "stream",
     "text": [
      "La velocidad es adecuada\n"
     ]
    }
   ],
   "source": [
    "vel = input(\"Ingrese la velocidad del asteroide\")\n",
    "\n",
    "if vel > '25':\n",
    "    print(\"La velocidad es de \", vel, \" km/s excediendo el límite seguro\")\n",
    "else:\n",
    "    print(\"La velocidad es adecuada\")\n",
    "    "
   ]
  },
  {
   "cell_type": "markdown",
   "metadata": {},
   "source": [
    "## Ejercicio 2"
   ]
  },
  {
   "cell_type": "code",
   "execution_count": 7,
   "metadata": {},
   "outputs": [
    {
     "name": "stdout",
     "output_type": "stream",
     "text": [
      "Tenemos un asteroide acercandose a la tierra a  19  km/s, distancia que no nos permite presenciar el efecto de \"rayos de sol\" \n"
     ]
    }
   ],
   "source": [
    "vel_asteroide = 19\n",
    "\n",
    "if vel_asteroide < 20 and vel_asteroide>0:\n",
    "    print(\"Tenemos un asteroide acercandose a la tierra a \", vel_asteroide, \" km/s, distancia que no nos permite presenciar el efecto de \\\"rayos de sol\\\" \")\n",
    "elif vel_asteroide >=20:\n",
    "    print(\"Un asteroide se aproxima a una velocidad que llega a producir rayos de luz, ¡Voltea al cielo! \")\n",
    "else: \n",
    "    print(\"La tierra esta segura de asteorides\")"
   ]
  },
  {
   "cell_type": "markdown",
   "metadata": {},
   "source": [
    "## Ejercicio 3 \"and\" \"or\" "
   ]
  },
  {
   "cell_type": "code",
   "execution_count": 8,
   "metadata": {},
   "outputs": [
    {
     "name": "stdout",
     "output_type": "stream",
     "text": [
      "Hola, por favor ingresa los siguientes datos \n",
      "   \n",
      "\n",
      "Un asteroide de gran tamaño se aproxima a una alta velocidad ¡Mira al cielo!\n"
     ]
    }
   ],
   "source": [
    "print(\"Hola, por favor ingresa los siguientes datos \\n   \\n\")\n",
    "size = int(input(\"Tamaño del asteroide: \"))\n",
    "velocidad = int(input(\"Velocidad del asteroide: \"))\n",
    "\n",
    "\n",
    "if size < 25 and size > 0: \n",
    "    if velocidad < 20:\n",
    "        print(\"No se presentan condiciones de alerta\")\n",
    "    else:\n",
    "        print(\"Hay un pequeño asteroide acercandose a gran velocidad a la tierra, ¡Mira el cielo!\")\n",
    "elif size  >= 25 and velocidad < 20 :\n",
    "        print(\"Un asteroide de gran tamaño acercandose a la tierra\")\n",
    "elif size >=25 and velocidad >= 20 :\n",
    "        print(\"Un asteroide de gran tamaño se aproxima a una alta velocidad ¡Mira al cielo!\")\n",
    "else:\n",
    "    print(\"No hay asteorides aproximandose a la Tierra\")"
   ]
  },
  {
   "cell_type": "markdown",
   "metadata": {},
   "source": [
    "## FIN DE LOS EJERCICIOS KATA 3"
   ]
  }
 ],
 "metadata": {
  "interpreter": {
   "hash": "21f4263c7a4a036ff1f693fd57424b1fa113237387aba808882342bca3a39de3"
  },
  "kernelspec": {
   "display_name": "Python 3.10.2 64-bit",
   "language": "python",
   "name": "python3"
  },
  "language_info": {
   "codemirror_mode": {
    "name": "ipython",
    "version": 3
   },
   "file_extension": ".py",
   "mimetype": "text/x-python",
   "name": "python",
   "nbconvert_exporter": "python",
   "pygments_lexer": "ipython3",
   "version": "3.10.2"
  },
  "orig_nbformat": 4
 },
 "nbformat": 4,
 "nbformat_minor": 2
}
