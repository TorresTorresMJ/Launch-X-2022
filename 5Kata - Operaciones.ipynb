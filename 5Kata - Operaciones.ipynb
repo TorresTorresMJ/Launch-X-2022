{
 "cells": [
  {
   "cell_type": "code",
   "execution_count": null,
   "metadata": {},
   "outputs": [],
   "source": []
  },
  {
   "cell_type": "markdown",
   "metadata": {},
   "source": [
    "## KATA 5 - Operaciones matemáticas"
   ]
  },
  {
   "cell_type": "markdown",
   "metadata": {},
   "source": [
    "Orden de funcionamiento \n",
    "\n",
    "1.- Paréntesis\n",
    "\n",
    "2.- Exponentes\n",
    "\n",
    "3.- Multiplicación y división\n",
    "\n",
    "4.- Suma y resta"
   ]
  },
  {
   "cell_type": "code",
   "execution_count": 26,
   "metadata": {},
   "outputs": [
    {
     "name": "stdout",
     "output_type": "stream",
     "text": [
      "17\n",
      "22\n"
     ]
    },
    {
     "ename": "TypeError",
     "evalue": "abs() takes exactly one argument (0 given)",
     "output_type": "error",
     "traceback": [
      "\u001b[1;31m---------------------------------------------------------------------------\u001b[0m",
      "\u001b[1;31mTypeError\u001b[0m                                 Traceback (most recent call last)",
      "\u001b[1;32mc:\\Users\\Monica J Torres\\Documents\\PythonLaunchX\\5Kata - Operaciones.ipynb Cell 4'\u001b[0m in \u001b[0;36m<module>\u001b[1;34m\u001b[0m\n\u001b[0;32m      <a href='vscode-notebook-cell:/c%3A/Users/Monica%20J%20Torres/Documents/PythonLaunchX/5Kata%20-%20Operaciones.ipynb#ch0000002?line=8'>9</a>\u001b[0m demo_int \u001b[39m=\u001b[39m \u001b[39mint\u001b[39m( )\n\u001b[0;32m     <a href='vscode-notebook-cell:/c%3A/Users/Monica%20J%20Torres/Documents/PythonLaunchX/5Kata%20-%20Operaciones.ipynb#ch0000002?line=9'>10</a>\u001b[0m demo_float \u001b[39m=\u001b[39m \u001b[39mfloat\u001b[39m ()\n\u001b[1;32m---> <a href='vscode-notebook-cell:/c%3A/Users/Monica%20J%20Torres/Documents/PythonLaunchX/5Kata%20-%20Operaciones.ipynb#ch0000002?line=10'>11</a>\u001b[0m \u001b[39mabs\u001b[39;49m() \u001b[39m#Devuelve el valor absoluto\u001b[39;00m\n\u001b[0;32m     <a href='vscode-notebook-cell:/c%3A/Users/Monica%20J%20Torres/Documents/PythonLaunchX/5Kata%20-%20Operaciones.ipynb#ch0000002?line=11'>12</a>\u001b[0m \u001b[39mround\u001b[39m ()\n",
      "\u001b[1;31mTypeError\u001b[0m: abs() takes exactly one argument (0 given)"
     ]
    }
   ],
   "source": [
    "seconds = 1042\n",
    "display_minutes = 1042 // 60  # Se usa para redondear hacai abajo (División de piso )\n",
    "display_seconds = 1042 % 60   #  % es el módulo, es decir, el residuo de la división\n",
    "\n",
    "print(display_minutes)\n",
    "print(display_seconds)\n",
    "\n",
    "#Para convertir str a int o foat \n",
    "demo_int = int( )\n",
    "demo_float = float ()\n",
    "abs() #Devuelve el valor absoluto\n",
    "round () #Sirve para redonder  un número "
   ]
  },
  {
   "cell_type": "code",
   "execution_count": null,
   "metadata": {},
   "outputs": [
    {
     "name": "stdout",
     "output_type": "stream",
     "text": [
      "13\n",
      "12\n"
     ]
    }
   ],
   "source": [
    "#Biblioteca Math \n",
    "#Esta biblio permite realizar redondeo con floor y ceil , proporcionar \"pi\" \n",
    "\n",
    "from math import ceil, floor\n",
    "\n",
    "round_up = ceil(12.5)  #Para redondear hacia arriba \n",
    "print(round_up)\n",
    "\n",
    "round_down = floor(12.5)  #Para redondear hacia abajo\n",
    "print(round_down)"
   ]
  },
  {
   "cell_type": "markdown",
   "metadata": {},
   "source": [
    "## EJERCICIOS KATA 5\n",
    "\n",
    "Ejercicio 1 "
   ]
  },
  {
   "cell_type": "code",
   "execution_count": 27,
   "metadata": {},
   "outputs": [
    {
     "name": "stdout",
     "output_type": "stream",
     "text": [
      "La distancia entre Júpiter y la Tierra es de  628949330 km\n",
      "La distancia entre Júpiter y la Tierra es de  390577533 millas\n"
     ]
    }
   ],
   "source": [
    "#Datos \n",
    "\n",
    "d_tierra = 149597870 #km \n",
    "d_jupiter = 778547200 #km\n",
    "\n",
    "distancia_t_j = d_tierra - d_jupiter \n",
    "print (\"La distancia entre Júpiter y la Tierra es de \", abs(distancia_t_j), \"km\")\n",
    "\n",
    "distancia_millas = ceil(0.621 * distancia_t_j)\n",
    "\n",
    "print(\"La distancia entre Júpiter y la Tierra es de \", abs(distancia_millas), \"millas\")"
   ]
  },
  {
   "cell_type": "markdown",
   "metadata": {},
   "source": [
    "Ejercicio 2"
   ]
  },
  {
   "cell_type": "code",
   "execution_count": 32,
   "metadata": {},
   "outputs": [
    {
     "name": "stdout",
     "output_type": "stream",
     "text": [
      "La distancia es de  4 km \n",
      " Es decir, de  2.484 millas\n"
     ]
    }
   ],
   "source": [
    "#Datos \n",
    "\n",
    "d1 = int ( input(\"Por favor ingresa la distancia del planeta 1 al sol: \")) \n",
    "d2 = int ( input (\"Distancia del planeta 2: \") ) \n",
    "\n",
    "#Se cambio esta manera para ahorrar variables añadiendo el int desde que se toma el dato \n",
    "#d1_int = int (d1)\n",
    "#d2_int = int(d2) \n",
    "\n",
    "distancia = abs(d1 - d2)\n",
    "d_millas = abs(distancia * 0.621)\n",
    "\n",
    "print (\"La distancia es de \", distancia , \"km\" , \"\\n\", \"Es decir, de \" , d_millas, \"millas\")"
   ]
  }
 ],
 "metadata": {
  "interpreter": {
   "hash": "21f4263c7a4a036ff1f693fd57424b1fa113237387aba808882342bca3a39de3"
  },
  "kernelspec": {
   "display_name": "Python 3.10.2 64-bit",
   "language": "python",
   "name": "python3"
  },
  "language_info": {
   "codemirror_mode": {
    "name": "ipython",
    "version": 3
   },
   "file_extension": ".py",
   "mimetype": "text/x-python",
   "name": "python",
   "nbconvert_exporter": "python",
   "pygments_lexer": "ipython3",
   "version": "3.10.2"
  },
  "orig_nbformat": 4
 },
 "nbformat": 4,
 "nbformat_minor": 2
}
