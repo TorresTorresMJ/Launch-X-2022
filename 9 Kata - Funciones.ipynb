{
 "cells": [
  {
   "cell_type": "code",
   "execution_count": null,
   "metadata": {},
   "outputs": [],
   "source": []
  },
  {
   "cell_type": "markdown",
   "metadata": {},
   "source": [
    "## KATA 9 - FUNCIONES"
   ]
  },
  {
   "cell_type": "code",
   "execution_count": null,
   "metadata": {},
   "outputs": [],
   "source": [
    "# Defino mi función\n",
    "def rocket_parts(): #Con parentesis vacíos decimos que la función definida no requiere argumentos \n",
    "    print('payload, propellant, structure')\n",
    "\n",
    "    # Llamo a mi función\n",
    "\n",
    "rocket_parts()\n",
    "'payload, propellant, structure'"
   ]
  },
  {
   "cell_type": "code",
   "execution_count": null,
   "metadata": {},
   "outputs": [],
   "source": [
    "output = rocket_parts()\n",
    "'payload, propellant, structure'\n",
    "\n",
    "output is None\n",
    "True"
   ]
  },
  {
   "cell_type": "code",
   "execution_count": null,
   "metadata": {},
   "outputs": [],
   "source": [
    ">>> def rocket_parts():\n",
    "    return 'payload, propellant, structure'\n",
    "\n",
    ">>> output = rocket_parts()\n",
    ">>> output\n",
    "'payload, propellant, structure'\n",
    "\n",
    "#Si necesitas usar el valor de una función, esa función debe devolver el valor explícitamente. De lo contrario; se devolverá `None`."
   ]
  },
  {
   "cell_type": "code",
   "execution_count": null,
   "metadata": {},
   "outputs": [],
   "source": [
    "#Función any() devuelve `True` si algún elemento del objeto iterable es `True`. De lo contrario, devuelve `False`.\n",
    "\n",
    "any([True, False, False])\n",
    "True\n",
    "any([False, False, False])\n",
    "False"
   ]
  },
  {
   "cell_type": "code",
   "execution_count": null,
   "metadata": {},
   "outputs": [],
   "source": [
    "#str ()  crea una cadena a partir de un argumento. Si no se pasa ningún argumento, devuelve una cadena vacía\n",
    "\n",
    "str()  #Devuelve cadena vacía \n",
    "''\n",
    "str(15) #Devuelce el argumento \n",
    "'15'"
   ]
  },
  {
   "cell_type": "code",
   "execution_count": null,
   "metadata": {},
   "outputs": [],
   "source": [
    "#Función con exigencia de argumento \n",
    "\n",
    "def distance_from_earth(destination):\n",
    "    if destination == 'Moon':\n",
    "        return '238,855'\n",
    "    else:\n",
    "        return 'Unable to compute to that destination'"
   ]
  },
  {
   "cell_type": "code",
   "execution_count": null,
   "metadata": {},
   "outputs": [],
   "source": [
    "#Llamamos sin argumento y marca error \n",
    "distance_from_earth()\n"
   ]
  },
  {
   "cell_type": "code",
   "execution_count": null,
   "metadata": {},
   "outputs": [],
   "source": [
    "distance_from_earth('Moon')"
   ]
  },
  {
   "cell_type": "code",
   "execution_count": null,
   "metadata": {},
   "outputs": [],
   "source": [
    "#Condición catch-all \n",
    "distance_from_earth('Saturn')"
   ]
  },
  {
   "cell_type": "code",
   "execution_count": null,
   "metadata": {},
   "outputs": [],
   "source": [
    "#Varios argumentos necesarios, se separan por comas \n",
    "\n",
    "def days_to_complete(distance, speed):\n",
    "    hours = distance/speed\n",
    "    return hours/24\n",
    "\n",
    "days_to_complete(238855, 75)"
   ]
  },
  {
   "cell_type": "code",
   "execution_count": null,
   "metadata": {},
   "outputs": [],
   "source": [
    "# Funciones como argumentos \n",
    "#Puedes usar el valor de la función days_to_complete() y asignarlo a una variable y, \n",
    "# después, pasarlo a round() (una función integrada que redondea al número entero más cercano) para obtener un número entero:\n",
    "\n",
    "total_days = days_to_complete(238855, 75)\n",
    "round(total_days)"
   ]
  },
  {
   "cell_type": "code",
   "execution_count": null,
   "metadata": {},
   "outputs": [],
   "source": [
    "round(days_to_complete(238855, 75))"
   ]
  },
  {
   "cell_type": "code",
   "execution_count": null,
   "metadata": {},
   "outputs": [],
   "source": [
    "### ARGUMENTOS DE PALABRA CLAVE \n",
    "from datetime import timedelta, datetime\n",
    "\n",
    "def arrival_time(hours=51):\n",
    "    now = datetime.now()  #Se usa  el módulo `datetime` para definir la hora actual\n",
    "    arrival = now + timedelta(hours=hours)  #`timedelta` para permitir la operación de suma que da como resultado un objeto de hora nuevo\n",
    "    return arrival.strftime('Arrival: %A %H:%M')  #devuelve la estimación `arrival` con formato de cadena\n"
   ]
  },
  {
   "cell_type": "code",
   "execution_count": null,
   "metadata": {},
   "outputs": [],
   "source": [
    "#Intentando  llamar la función sin argumento \n",
    "arrival_time()  #la variable `hours` tiene como valor predeterminado `51`"
   ]
  },
  {
   "cell_type": "code",
   "execution_count": null,
   "metadata": {},
   "outputs": [],
   "source": [
    "arrival_time(hours=0)  # Para comprobar que la fecha actual es correcta, usamos `0` como valor para `hours`:"
   ]
  },
  {
   "cell_type": "code",
   "execution_count": null,
   "metadata": {},
   "outputs": [],
   "source": [
    "### COMBINACIÓN ARGUMENTOS Y PALABRAS CLAVE \n",
    "# Los argumentos siempre se declaran primero, seguidos de argumentos de palabra clave.\n",
    "\n",
    "def arrival_time(destination, hours=51):\n",
    "    now = datetime.now()\n",
    "    arrival = now + timedelta(hours=hours)\n",
    "    return arrival.strftime(f'{destination} Arrival: %A %H:%M')"
   ]
  },
  {
   "cell_type": "code",
   "execution_count": null,
   "metadata": {},
   "outputs": [],
   "source": [
    "#Dado que hemos agregado un argumento necesario, ya no es posible llamar a la función sin ningún argumento:\n",
    "\n",
    "\n",
    "arrival_time()"
   ]
  },
  {
   "cell_type": "code",
   "execution_count": null,
   "metadata": {},
   "outputs": [],
   "source": [
    "#Corrigiendo el error \n",
    "arrival_time('Moon')"
   ]
  },
  {
   "cell_type": "code",
   "execution_count": null,
   "metadata": {},
   "outputs": [],
   "source": [
    "arrival_time('Orbit', hours=0.13)  #Mandqamos llamar con dos argumentos "
   ]
  },
  {
   "cell_type": "code",
   "execution_count": null,
   "metadata": {},
   "outputs": [],
   "source": [
    "### Argumentos de variable\n",
    "#Cuando se usan argumentos de variable, la función permite pasar cualquier número de argumentos (incluido `0`)\n",
    "\n",
    "def variable_length(*args):   # La sintaxis para usar argumentos de variable es agregar un asterisco único como prefijo (`*`) antes del nombre del argumento.\n",
    "    print(args)                 # es habitual ver *args o *a, debe intentar usar la misma convención en un proyecto.\n"
   ]
  },
  {
   "cell_type": "code",
   "execution_count": null,
   "metadata": {},
   "outputs": [],
   "source": [
    "#Probando args con argumento vacío\n",
    "variable_length()"
   ]
  },
  {
   "cell_type": "code",
   "execution_count": null,
   "metadata": {},
   "outputs": [],
   "source": [
    "variable_length('one', 'two')"
   ]
  },
  {
   "cell_type": "code",
   "execution_count": null,
   "metadata": {},
   "outputs": [],
   "source": [
    "variable_length(None)"
   ]
  },
  {
   "cell_type": "code",
   "execution_count": null,
   "metadata": {},
   "outputs": [],
   "source": [
    "# función de longitud variable que pueda calcular cuántos minutos quedan hasta el inicio, dado el tiempo que va a tardar cada paso:\n",
    "\n",
    "def sequence_time(*args):\n",
    "    total_minutes = sum(args)\n",
    "    if total_minutes < 60:\n",
    "        return f'Total time to launch is {total_minutes} minutes'\n",
    "    else:\n",
    "        return f'Total time to launch is {total_minutes/60} hours'"
   ]
  },
  {
   "cell_type": "code",
   "execution_count": null,
   "metadata": {},
   "outputs": [],
   "source": [
    "sequence_time(4, 14, 18)\n"
   ]
  },
  {
   "cell_type": "code",
   "execution_count": null,
   "metadata": {},
   "outputs": [],
   "source": [
    "\n",
    "sequence_time(4, 14, 48)\n"
   ]
  },
  {
   "cell_type": "code",
   "execution_count": null,
   "metadata": {},
   "outputs": [],
   "source": [
    "### ARgumentos de palabra clave variable \n",
    "# Para que una función acepte cualquier número de argumentos de palabra clave, debe usar una sintaxis similar. En este caso, se requiere un asterisco doble:\n",
    "\n",
    "\n",
    "def variable_length(**kwargs):\n",
    "    print(kwargs)\n",
    "\n",
    "variable_length(tanks=1, day='Wednesday', pilots=3)"
   ]
  },
  {
   "cell_type": "code",
   "execution_count": null,
   "metadata": {},
   "outputs": [],
   "source": [
    "\n",
    "def crew_members(**kwargs):\n",
    "    print(f'{len(kwargs)} astronauts assigned for this mission:')\n",
    "    for title, name in kwargs.items():\n",
    "        print(f'{title}: {name}')\n",
    "\n",
    "crew_members(captain='Neil Armstrong', pilot='Buzz Aldrin', command_pilot='Michael Collins')"
   ]
  },
  {
   "cell_type": "code",
   "execution_count": null,
   "metadata": {},
   "outputs": [],
   "source": [
    "# Se debe evitar palabras claves repetidas pues producen error \n",
    "\n",
    "crew_members(captain='Neil Armstrong', pilot='Buzz Aldrin', pilot='Michael Collins')"
   ]
  },
  {
   "cell_type": "markdown",
   "metadata": {},
   "source": [
    "### INICIO EJERCICIOS KATA 9\n",
    "\n",
    "Ejercicio 1"
   ]
  },
  {
   "cell_type": "code",
   "execution_count": null,
   "metadata": {},
   "outputs": [],
   "source": [
    "### INFORME DE COMBUSTIBLE, requiere de varias ubicaciones de combustible en todo el cohete\n",
    "\n",
    "#Función para leer 3 tanques de combustible y muestre el promedio \n",
    "\n",
    "def combustible_3 ( Tanque1, Tanque2, Tanque3):\n",
    "    avg = (Tanque1 + Tanque2 + Tanque3 ) / 3\n",
    "    return f\"\"\" El estado de los tanques de la nave es: \n",
    "    Tanque principal: {Tanque1 *100} % de la capacidad\n",
    "    Tanque secundario: {Tanque2 *100} % de la capacidad\n",
    "    Tercer tanque: {Tanque3 *100} % de la capacidad\n",
    "    Promedio total: {avg *100} %\"\"\"\n",
    "    "
   ]
  },
  {
   "cell_type": "code",
   "execution_count": null,
   "metadata": {},
   "outputs": [],
   "source": [
    "print(combustible_3(1/4, 1/2, 7/8))"
   ]
  },
  {
   "cell_type": "code",
   "execution_count": null,
   "metadata": {},
   "outputs": [],
   "source": [
    "#Función promedio \n",
    "\n",
    "def AVG (tanques):\n",
    "    suma = sum(tanques)\n",
    "    return suma/3"
   ]
  },
  {
   "cell_type": "code",
   "execution_count": null,
   "metadata": {},
   "outputs": [],
   "source": [
    "#Actualizamos la función\n",
    "\n",
    "def combustible_3 ( Tanque1, Tanque2, Tanque3):\n",
    "    return f\"\"\" El estado de los tanques de la nave es: \n",
    "    Tanque principal: {Tanque1 *100} % de la capacidad\n",
    "    Tanque secundario: {Tanque2 *100} % de la capacidad\n",
    "    Tercer tanque: {Tanque3 *100} % de la capacidad \n",
    "    Promedio Total: {AVG([Tanque1, Tanque2, Tanque3]*100)} %\"\"\""
   ]
  },
  {
   "cell_type": "code",
   "execution_count": null,
   "metadata": {},
   "outputs": [],
   "source": [
    "#imprimimos \n",
    "print(combustible_3(1/4, 1/8, 1/2))"
   ]
  },
  {
   "cell_type": "markdown",
   "metadata": {},
   "source": [
    "EJERCICIO 2"
   ]
  },
  {
   "cell_type": "code",
   "execution_count": 131,
   "metadata": {},
   "outputs": [
    {
     "name": "stdout",
     "output_type": "stream",
     "text": [
      "\n",
      "    Destino de viaje: Luna\n",
      "    Tiempo estimado de viaje: 65 minutos\n",
      "    Cantidad de combustible: 10500 galones\n",
      "    \n"
     ]
    }
   ],
   "source": [
    "##Argumentos de palabra clave \n",
    "#Informe de cohete (Tiempo hasta el destino, combustible left , nombre del destino, tiempo de vuelo, tanque externo, tanque interno )\n",
    "\n",
    "def report(pre_launch_time, flight_time, destino, external_tank, int_tank):\n",
    "    return f\"\"\"\n",
    "    Destino de viaje: {destino}\n",
    "    Tiempo estimado de viaje: {pre_launch_time + flight_time} minutos\n",
    "    Cantidad de combustible: {external_tank + int_tank} galones\n",
    "    \"\"\"\n",
    "\n",
    "print(report(14, 51, \"Luna\", 6700, 3800))"
   ]
  },
  {
   "cell_type": "code",
   "execution_count": 126,
   "metadata": {},
   "outputs": [
    {
     "name": "stdout",
     "output_type": "stream",
     "text": [
      "\n",
      "    Destino de viaje: Moon\n",
      "    Tiempo estimado de viaje: 76 min\n",
      "    Estado del combustible: 10500\n",
      "    \n"
     ]
    }
   ],
   "source": [
    "#Permitiendo cualquier número de pasas basados en el tiempo y cualquier numero de tanques \n",
    "def report(destino, *min, **fuel_reservoirs):\n",
    "    return f\"\"\"\n",
    "    Destino de viaje: {destino}\n",
    "    Tiempo estimado de viaje: {sum(min)} min\n",
    "    Estado del combustible: {sum(fuel_reservoirs.values())}\n",
    "    \"\"\"\n",
    "\n",
    "print(report(\"Moon\", 10, 15, 51, in_tank= 6700 , ext_tank= 3800))"
   ]
  },
  {
   "cell_type": "code",
   "execution_count": 128,
   "metadata": {},
   "outputs": [
    {
     "name": "stdout",
     "output_type": "stream",
     "text": [
      "\n",
      "    Mission to Moon\n",
      "    Total travel time: 74 minutes\n",
      "    Total fuel left: 9500\n",
      "    main tank --> 6000 gallons left\n",
      "external tank --> 3500 gallons left\n",
      "\n"
     ]
    }
   ],
   "source": [
    "def mission_report(destination, *minutes, **fuel_reservoirs):\n",
    "    main_report = f\"\"\"\n",
    "    Mission to {destination}\n",
    "    Total travel time: {sum(minutes)} minutes\n",
    "    Total fuel left: {sum(fuel_reservoirs.values())}\n",
    "    \"\"\"\n",
    "    for tank_name, gallons in fuel_reservoirs.items():\n",
    "        main_report += f\"{tank_name} tank --> {gallons} gallons left\\n\"\n",
    "    return main_report\n",
    "\n",
    "print(mission_report(\"Moon\", 8, 11, 55, main=6000, external=3500))"
   ]
  }
 ],
 "metadata": {
  "interpreter": {
   "hash": "21f4263c7a4a036ff1f693fd57424b1fa113237387aba808882342bca3a39de3"
  },
  "kernelspec": {
   "display_name": "Python 3.10.2 64-bit",
   "language": "python",
   "name": "python3"
  },
  "language_info": {
   "codemirror_mode": {
    "name": "ipython",
    "version": 3
   },
   "file_extension": ".py",
   "mimetype": "text/x-python",
   "name": "python",
   "nbconvert_exporter": "python",
   "pygments_lexer": "ipython3",
   "version": "3.10.2"
  },
  "orig_nbformat": 4
 },
 "nbformat": 4,
 "nbformat_minor": 2
}
