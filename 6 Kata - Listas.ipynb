{
 "cells": [
  {
   "cell_type": "code",
   "execution_count": null,
   "metadata": {},
   "outputs": [],
   "source": []
  },
  {
   "cell_type": "markdown",
   "metadata": {},
   "source": [
    "## KATA 6 - LISTAS "
   ]
  },
  {
   "cell_type": "code",
   "execution_count": 7,
   "metadata": {},
   "outputs": [
    {
     "name": "stdout",
     "output_type": "stream",
     "text": [
      "Hay  8  planetas \n",
      " El tercer planeta es:  tierra\n"
     ]
    }
   ],
   "source": [
    "#Para obtener la longitud de una lista se usa \n",
    "planets = ['mercurio', 'venus', 'tierra', 'marte', 'jupiter', 'saturno', 'urano', 'neptuno']\n",
    "len(planets) #Nombre de la lista\n",
    "print (\"Hay \" , len(planets), \" planetas\" , \"\\n\", \"El tercer planeta es: \", planets[2])\n"
   ]
  },
  {
   "cell_type": "code",
   "execution_count": 11,
   "metadata": {},
   "outputs": [
    {
     "name": "stdout",
     "output_type": "stream",
     "text": [
      "Controversialmente hay 12  planetas en el sistema solar\n"
     ]
    }
   ],
   "source": [
    "#Para añadir a la lista \n",
    "\n",
    "planets.append('Pluton')\n",
    "n_planetas = len(planets)\n",
    "print (\"Controversialmente hay\" , n_planetas, \" planetas en el sistema solar\")\n",
    "\n",
    "#Cada vez que se compila el código se añade un item más a la lista, es decir si ya lo compile 4 veces, se añadió 4 veces plutón "
   ]
  },
  {
   "cell_type": "code",
   "execution_count": 15,
   "metadata": {},
   "outputs": [
    {
     "name": "stdout",
     "output_type": "stream",
     "text": [
      "No, there are definitely 9 planets in the solar system.\n"
     ]
    }
   ],
   "source": [
    "#Puedes eliminar el último elemento de una lista llamando al método .pop() de la variable de lista:\n",
    "\n",
    "planets.pop()  # Goodbye, Pluto\n",
    "n_planetas = len(planets)\n",
    "print('No, there are definitely', n_planetas, 'planets in the solar system.')"
   ]
  },
  {
   "cell_type": "code",
   "execution_count": 16,
   "metadata": {},
   "outputs": [
    {
     "name": "stdout",
     "output_type": "stream",
     "text": [
      "The last planet is Pluton\n",
      "The penultimate planet is neptuno\n"
     ]
    }
   ],
   "source": [
    "#En el ejemplo siguiente, un índice de -1 devuelve el último elemento de una lista. Un índice de -2 retorna del penúltimo al último.\n",
    "#Como si fuera un bucle y se esta repitiendo \n",
    "print('The last planet is', planets[-1])\n",
    "print('The penultimate planet is', planets[-2])"
   ]
  },
  {
   "cell_type": "code",
   "execution_count": 18,
   "metadata": {},
   "outputs": [
    {
     "name": "stdout",
     "output_type": "stream",
     "text": [
      "Jupiter is the 5 planet from the sun\n"
     ]
    }
   ],
   "source": [
    "#Para determinar en qué parte de una lista se almacena un valor, utilizamos el método index() de la lista. \n",
    "#Este método busca el valor y devuelve el índice de ese elemento en la lista. Si no encuentra una coincidencia, devuelve -1\n",
    "\n",
    "jupiter_index = planets.index('jupiter') #Recuerda escribir la variable tal cual, minusculas, mayusculas, etc. \n",
    "print('Jupiter is the', jupiter_index + 1, 'planet from the sun')"
   ]
  },
  {
   "cell_type": "code",
   "execution_count": null,
   "metadata": {},
   "outputs": [],
   "source": []
  },
  {
   "cell_type": "markdown",
   "metadata": {},
   "source": [
    "## EJERCICIOS KATA 6 \n",
    "\n",
    "Ejercicio 1 "
   ]
  },
  {
   "cell_type": "code",
   "execution_count": 35,
   "metadata": {},
   "outputs": [
    {
     "name": "stdout",
     "output_type": "stream",
     "text": [
      "Los planetas del sistema solar son: \n",
      "Mercury \n",
      "Venus \n",
      "Earth \n",
      "Mars \n",
      "Jupiter \n",
      "Saturn \n",
      "Uranus \n",
      "Neptune\n"
     ]
    }
   ],
   "source": [
    "\n",
    "planets = ['Mercury', 'Venus', 'Earth','Mars', 'Jupiter', 'Saturn' , 'Uranus' , 'Neptune']\n",
    "\n",
    "print (\"Los planetas del sistema solar son: \")\n",
    "\n",
    "print(\" \\n\".join(map (str, planets)))"
   ]
  },
  {
   "cell_type": "code",
   "execution_count": 36,
   "metadata": {},
   "outputs": [
    {
     "name": "stdout",
     "output_type": "stream",
     "text": [
      "El último planeta es:  Pluto\n"
     ]
    }
   ],
   "source": [
    "#Se añade un elemento a la lista en último lugar \n",
    "planets.append('Pluto')\n",
    "print(\"El último planeta es: \", planets[-1])"
   ]
  },
  {
   "cell_type": "markdown",
   "metadata": {},
   "source": [
    "Ejercicio 2"
   ]
  },
  {
   "cell_type": "code",
   "execution_count": 61,
   "metadata": {},
   "outputs": [
    {
     "name": "stdout",
     "output_type": "stream",
     "text": [
      "Antes de Pluto  los planetas más cecanos al sol, son: \n",
      "Mercury \n",
      "Venus \n",
      "Earth \n",
      "Mars \n",
      "Jupiter \n",
      "Saturn \n",
      "Uranus \n",
      "Neptune\n",
      "Pluto es el planeta más lejano al sol\n"
     ]
    }
   ],
   "source": [
    "\n",
    "referencia = input(\"Ingresa el nombre del planeta con la inicial en Mayuscula\")\n",
    "\n",
    "indice = planets.index(referencia)\n",
    "\n",
    "\n",
    "print(\"Antes de\" , referencia, \" los planetas más cecanos al sol, son: \" )\n",
    "print ((\" \\n\".join(map (str, planets[0:indice]))) ) #\n",
    "\n",
    "\n",
    "\n",
    "if referencia == \"Pluto\":\n",
    "    print( \"Pluto es el planeta más lejano al sol\")\n",
    "else: \n",
    "    print(\"Los planetas más lejanos al sol, son: \" )\n",
    "    print ((\" \\n\".join(map (str, planets[indice +1: ]))) ) #\n",
    "  "
   ]
  },
  {
   "cell_type": "markdown",
   "metadata": {},
   "source": [
    "## FIN DE LOS EJERCICOS KATA 6"
   ]
  }
 ],
 "metadata": {
  "interpreter": {
   "hash": "21f4263c7a4a036ff1f693fd57424b1fa113237387aba808882342bca3a39de3"
  },
  "kernelspec": {
   "display_name": "Python 3.10.2 64-bit",
   "language": "python",
   "name": "python3"
  },
  "language_info": {
   "codemirror_mode": {
    "name": "ipython",
    "version": 3
   },
   "file_extension": ".py",
   "mimetype": "text/x-python",
   "name": "python",
   "nbconvert_exporter": "python",
   "pygments_lexer": "ipython3",
   "version": "3.10.2"
  },
  "orig_nbformat": 4
 },
 "nbformat": 4,
 "nbformat_minor": 2
}
