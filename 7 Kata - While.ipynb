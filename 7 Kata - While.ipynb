{
 "cells": [
  {
   "cell_type": "code",
   "execution_count": null,
   "metadata": {},
   "outputs": [],
   "source": []
  },
  {
   "cell_type": "markdown",
   "metadata": {},
   "source": [
    "## KATA 7 ESTRUCTURAS DE CONTROL "
   ]
  },
  {
   "cell_type": "code",
   "execution_count": null,
   "metadata": {},
   "outputs": [],
   "source": [
    "# \"WHILE\"\n",
    "\n",
    "\n",
    "#Ciclos for con While "
   ]
  },
  {
   "cell_type": "markdown",
   "metadata": {},
   "source": [
    "## EJERCICIOS KATA 7\n",
    "\n",
    "Ejercicio 1"
   ]
  },
  {
   "cell_type": "code",
   "execution_count": 10,
   "metadata": {},
   "outputs": [
    {
     "name": "stdout",
     "output_type": "stream",
     "text": [
      "Lista de planetas ['mars', 'earth']\n"
     ]
    }
   ],
   "source": [
    "new_planet = ''\n",
    "planets = [ ]\n",
    "\n",
    "#while new_planet != \"done\": \n",
    "\n",
    "while new_planet.lower() != \"done\":\n",
    "    if new_planet :\n",
    "        planets.append(new_planet)\n",
    "    new_planet = input(\"Enter a new value or done when done\") #Cuando se puso antes del \"if\" , salia \"done\" como ultimo elemento \n",
    "print (\"Lista de planetas\", planets)\n"
   ]
  },
  {
   "cell_type": "markdown",
   "metadata": {},
   "source": [
    "Ejercicio 2"
   ]
  },
  {
   "cell_type": "code",
   "execution_count": 39,
   "metadata": {},
   "outputs": [
    {
     "name": "stdout",
     "output_type": "stream",
     "text": [
      "Planet  1 :  mars\n",
      "Planet  2 :  earth\n"
     ]
    }
   ],
   "source": [
    "#for en while\n",
    "\n",
    "for i, planet in enumerate(planets):\n",
    "    print (\"Planet \", i+1, \": \",  planet)\n"
   ]
  },
  {
   "cell_type": "markdown",
   "metadata": {},
   "source": [
    "## FIN DE LOS EJERCICIOS KATA 7"
   ]
  }
 ],
 "metadata": {
  "interpreter": {
   "hash": "21f4263c7a4a036ff1f693fd57424b1fa113237387aba808882342bca3a39de3"
  },
  "kernelspec": {
   "display_name": "Python 3.10.2 64-bit",
   "language": "python",
   "name": "python3"
  },
  "language_info": {
   "codemirror_mode": {
    "name": "ipython",
    "version": 3
   },
   "file_extension": ".py",
   "mimetype": "text/x-python",
   "name": "python",
   "nbconvert_exporter": "python",
   "pygments_lexer": "ipython3",
   "version": "3.10.2"
  },
  "orig_nbformat": 4
 },
 "nbformat": 4,
 "nbformat_minor": 2
}
